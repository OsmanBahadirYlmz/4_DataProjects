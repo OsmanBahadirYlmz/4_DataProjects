{
  "cells": [
    {
      "cell_type": "markdown",
      "metadata": {
        "id": "3EVoshXYjbcU"
      },
      "source": [
        "## Implementations"
      ]
    },
    {
      "cell_type": "code",
      "execution_count": null,
      "metadata": {
        "id": "_N7rDXZtU7Tg"
      },
      "outputs": [],
      "source": [
        "import pandas\n",
        "import numpy as np\n",
        "import matplotlib.pyplot as plt\n",
        "import seaborn as sns; sns.set()\n",
        "import sklearn\n",
        "\n",
        "print(f'Seaborn version: {sns.__version__}')\n",
        "print(f'Sklearn version: {sklearn.__version__}')"
      ]
    },
    {
      "cell_type": "markdown",
      "metadata": {
        "id": "gy5FxFHGwD64"
      },
      "source": [
        "# Reading and preparing the dataset"
      ]
    },
    {
      "cell_type": "code",
      "execution_count": null,
      "metadata": {
        "collapsed": true,
        "id": "jpvYIzirte7b"
      },
      "outputs": [],
      "source": [
        "from sklearn.datasets import load_iris\n",
        "X, y = load_iris(return_X_y=True)"
      ]
    },
    {
      "cell_type": "code",
      "execution_count": null,
      "metadata": {
        "id": "wrvF-m3QwVzr"
      },
      "outputs": [],
      "source": [
        "print(f'Type of features array: {type(X)}')\n",
        "\n",
        "# sepal_length,  sepal_width,  petal_length,  petal_width\n",
        "print(f'{X[:5]}')"
      ]
    },
    {
      "cell_type": "markdown",
      "metadata": {
        "id": "ijM5hXuU0l4Q"
      },
      "source": [
        "## _Is it applicable to use an ordered array for labels?_"
      ]
    },
    {
      "cell_type": "code",
      "execution_count": null,
      "metadata": {
        "id": "zYrPMnySwdvW"
      },
      "outputs": [],
      "source": [
        "print(f'Type of label array: {type(y)}')\n",
        "\n",
        "# species\n",
        "print(f'{y[:5]}')"
      ]
    },
    {
      "cell_type": "markdown",
      "metadata": {
        "id": "2FhDNrSy0vlU"
      },
      "source": [
        "## _Why we need to divide the dataset into train, validation, and test?_"
      ]
    },
    {
      "cell_type": "code",
      "execution_count": null,
      "metadata": {
        "collapsed": true,
        "id": "o5E17hvtvc8k"
      },
      "outputs": [],
      "source": [
        "from sklearn.model_selection import train_test_split\n",
        "\n",
        "# 80% Train, 10% Validation, %10 Test\n",
        "X_train, X_test, y_train, y_test = train_test_split(X, y, test_size=0.2, random_state=42)\n",
        "X_valid, X_test, y_valid, y_test = train_test_split(X_test, y_test, test_size=0.5, random_state=42)"
      ]
    },
    {
      "cell_type": "code",
      "execution_count": null,
      "metadata": {
        "id": "9y1D2ghY04G6"
      },
      "outputs": [],
      "source": [
        "print(f'Total # of sample in whole dataset: {len(X)}')\n",
        "print(f'Total # of sample in train dataset: {len(X_train)}')\n",
        "print(f'Total # of sample in validation dataset: {len(X_valid)}')\n",
        "print(f'Total # of sample in test dataset: {len(X_test)}')"
      ]
    },
    {
      "cell_type": "markdown",
      "metadata": {
        "id": "OTzZEslF1gLo"
      },
      "source": [
        "# Creating the model"
      ]
    },
    {
      "cell_type": "markdown",
      "metadata": {
        "id": "sF1cJVJ92GBH"
      },
      "source": [
        "https://scikit-learn.org/stable/modules/generated/sklearn.naive_bayes.GaussianNB.html#sklearn.naive_bayes.GaussianNB"
      ]
    },
    {
      "cell_type": "code",
      "execution_count": null,
      "metadata": {
        "id": "jORPqVhkufLF"
      },
      "outputs": [],
      "source": [
        "from sklearn.naive_bayes import GaussianNB\n",
        "\n",
        "nb_model = GaussianNB(var_smoothing=10)"
      ]
    },
    {
      "cell_type": "code",
      "execution_count": null,
      "metadata": {
        "id": "dCINOPt7wxo6"
      },
      "outputs": [],
      "source": [
        "nb_model.fit(X_train, y_train)"
      ]
    },
    {
      "cell_type": "code",
      "execution_count": null,
      "metadata": {
        "id": "g_Qfc3QM2hd5"
      },
      "outputs": [],
      "source": [
        "# example = [[1.0, 1.0, 1.0, 1.0]]\n",
        "example = [[2.3, 8.7, 1.0, 2.3]]\n",
        "\n",
        "prediction = nb_model.predict(example)\n",
        "print(f'Prediction for given example: {prediction}')"
      ]
    },
    {
      "cell_type": "code",
      "execution_count": null,
      "metadata": {
        "id": "Ce3c6Occ3FXs"
      },
      "outputs": [],
      "source": [
        "validation_score = nb_model.score(X_valid, y_valid)\n",
        "print(f'Validation score of trained model: {validation_score}')"
      ]
    },
    {
      "cell_type": "markdown",
      "metadata": {
        "id": "kDZLxuYF4OCz"
      },
      "source": [
        "## Make another experiment with different hyperparameters"
      ]
    },
    {
      "cell_type": "code",
      "execution_count": null,
      "metadata": {
        "id": "Uh5BACO_4UgA"
      },
      "outputs": [],
      "source": [
        "nb_model = GaussianNB(var_smoothing=1)\n",
        "nb_model.fit(X_train, y_train)\n",
        "\n",
        "validation_score = nb_model.score(X_valid, y_valid)\n",
        "print(f'Validation score of trained model: {validation_score}')"
      ]
    },
    {
      "cell_type": "code",
      "execution_count": null,
      "metadata": {
        "id": "eYZXPkqZ4a6I"
      },
      "outputs": [],
      "source": [
        "nb_model = GaussianNB(var_smoothing=1e-1)\n",
        "nb_model.fit(X_train, y_train)\n",
        "\n",
        "validation_score = nb_model.score(X_valid, y_valid)\n",
        "print(f'Validation score of trained model: {validation_score}')"
      ]
    },
    {
      "cell_type": "markdown",
      "metadata": {
        "id": "kapPhd8c4nUz"
      },
      "source": [
        "#### After hyperparameters are selected regarding experiment with max score, now the model will be evaluated on test dataset"
      ]
    },
    {
      "cell_type": "code",
      "execution_count": null,
      "metadata": {
        "id": "N_isVa2S4glI"
      },
      "outputs": [],
      "source": [
        "test_score = nb_model.score(X_test, y_test)\n",
        "print(f'Test score of trained model: {test_score}')"
      ]
    },
    {
      "cell_type": "markdown",
      "metadata": {
        "id": "9VdlyF6V5Sz6"
      },
      "source": [
        "## Investigating the results"
      ]
    },
    {
      "cell_type": "code",
      "execution_count": null,
      "metadata": {
        "id": "6GK4HrBt6eaM"
      },
      "outputs": [],
      "source": [
        "from sklearn.metrics import confusion_matrix\n",
        "\n",
        "y_predictions = nb_model.predict(X_test)\n",
        "\n",
        "conf_matrix = confusion_matrix(y_predictions, y_test)\n",
        "print(conf_matrix)\n",
        "\n",
        "sns.heatmap(conf_matrix, annot=True)"
      ]
    },
    {
      "cell_type": "code",
      "execution_count": null,
      "metadata": {
        "id": "U-FE0GHd5PVt"
      },
      "outputs": [],
      "source": [
        "from sklearn.metrics import classification_report\n",
        "\n",
        "print(classification_report(y_predictions, y_test))"
      ]
    },
    {
      "cell_type": "code",
      "execution_count": null,
      "metadata": {
        "collapsed": true,
        "id": "ECPYNG3c6TuZ"
      },
      "outputs": [],
      "source": [
        ""
      ]
    }
  ],
  "metadata": {
    "colab": {
      "collapsed_sections": [],
      "name": "CMPE407_Week_3.ipynb",
      "provenance": []
    },
    "kernelspec": {
      "display_name": "Python 3",
      "language": "python",
      "name": "python3"
    },
    "language_info": {
      "codemirror_mode": {
        "name": "ipython",
        "version": 3
      },
      "file_extension": ".py",
      "mimetype": "text/x-python",
      "name": "python",
      "nbconvert_exporter": "python",
      "pygments_lexer": "ipython3",
      "version": "3.6.2"
    }
  },
  "nbformat": 4,
  "nbformat_minor": 0
}